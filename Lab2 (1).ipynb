{
 "cells": [
  {
   "cell_type": "markdown",
   "id": "e12ab260-5822-4067-af77-c1c5a55abd0d",
   "metadata": {},
   "source": [
    "# Lab 2: KNN and Metrics\n",
    "\n",
    "### COSC 410B: Spring 2025, Colgate University\n",
    "\n",
    "Goals for this lab: \n",
    "\n",
    "* Implement evaluation metrics from scratch\n",
    "* Implement KNN classification and regression models from scratch\n",
    "* Train and evaluate KNN models\n",
    "* (Re)Familiarize yourself with classes and objects in Python"
   ]
  },
  {
   "cell_type": "markdown",
   "id": "3c2f840b-711f-41f8-8f08-32e94c508f93",
   "metadata": {},
   "source": [
    "## Part 1: Implement evaluation metrics\n",
    "\n",
    "* Implement all of the functions in `util.py`\n",
    "* Describe how you might use the `euclidean_distance` and `mode` function in a KNN model. "
   ]
  },
  {
   "cell_type": "markdown",
   "id": "9d877e0b-49a4-4cc6-b675-5c2b70fec75b",
   "metadata": {},
   "source": [
    "**[WRITE YOUR ANSWER IN THIS CHUNK]**"
   ]
  },
  {
   "cell_type": "markdown",
   "id": "fd5a68b7",
   "metadata": {},
   "source": [
    "Use euclidean distance to find the k nearest neighbors. Then use the mode function on the list of the k nearest neighbors to determine how to classify the new data point."
   ]
  },
  {
   "cell_type": "markdown",
   "id": "7c822f3e-aa5c-4e63-bb44-c78b3bd4f323",
   "metadata": {},
   "source": [
    "## Part 2: Implement KNN model\n",
    "\n",
    "Explain why adding X and Y from train to class is equivalent of \"fitting\" or \"training\" a KNN model.  \n"
   ]
  },
  {
   "cell_type": "markdown",
   "id": "f1542fee-9a28-40e6-b8de-1cb58e3f2a6a",
   "metadata": {},
   "source": [
    "**[WRITE YOUR ANSWER IN THIS CHUNK]**"
   ]
  },
  {
   "cell_type": "markdown",
   "id": "994b8ab3",
   "metadata": {},
   "source": [
    "In a normal regression/classification problem, you have to \"train\" the model. In a KNN, there is no training and no model, so by adding in the given data, you are giving the KNN everything it needs to predict data, so in that sense, it's similar to \"training\" or \"fitting\" a regression or classification model."
   ]
  },
  {
   "cell_type": "markdown",
   "id": "97416922-a899-4061-937f-74be353bdbd9",
   "metadata": {},
   "source": [
    "In `KNN.py`:\n",
    "\n",
    "* Implement the `predict` function \n",
    "* Write test cases that demonstrate that\n",
    "     * You know how you use the `fit` and `predict` function\n",
    "     * The `predict` function is working as expected for both KNN classification and KNN regression. "
   ]
  },
  {
   "cell_type": "markdown",
   "id": "4be630c7-5e8f-4cbe-adc1-9566d72d1dff",
   "metadata": {},
   "source": [
    "## Part 3: Train and evaluate a KNN classification model\n",
    "\n",
    "In this lab we will we working with synthetically generated data. \n",
    "\n",
    "* Split the `dat_classification.csv` into train and test. 80% of the rows in the file should be in the train split, and the remaining 20% in the test split.\n",
    "* Train a KNN classification model on the `train` split.\n",
    "* Evaluate the model on the `test` split.\n",
    "* Briefly discuss the goodness of your model. \n",
    "\n",
    "The following lines of import the code you wrote in the previous parts. Add as many code and markdown chunks as you would like. "
   ]
  },
  {
   "cell_type": "code",
   "execution_count": 2,
   "id": "9e3b3619-1879-43e1-948c-63c62a6dadfc",
   "metadata": {},
   "outputs": [],
   "source": [
    "import numpy as np\n",
    "import KNN\n",
    "import util"
   ]
  },
  {
   "cell_type": "markdown",
   "id": "0492a51c-7c0a-4d66-8c08-fea39d60a553",
   "metadata": {},
   "source": [
    "## Part 4: Train and evaluate a KNN regression model\n",
    "\n",
    "* Split the `dat_regression.csv` into train and test. 80% of the rows in the file should be in the train split, and the remaining 20% in the test split.\n",
    "* Train a KNN regression model on the `train` split.\n",
    "* Evaluate the model on the `test` split.\n",
    "* Briefly discuss the goodness of your model. \n",
    "\n",
    "Add as many code and markdown chunks as you would like. "
   ]
  },
  {
   "cell_type": "code",
   "execution_count": null,
   "id": "b0f318a7-6f55-4c82-b3bc-9646196e5b6d",
   "metadata": {},
   "outputs": [],
   "source": []
  }
 ],
 "metadata": {
  "kernelspec": {
   "display_name": "Python 3 (ipykernel)",
   "language": "python",
   "name": "python3"
  },
  "language_info": {
   "codemirror_mode": {
    "name": "ipython",
    "version": 3
   },
   "file_extension": ".py",
   "mimetype": "text/x-python",
   "name": "python",
   "nbconvert_exporter": "python",
   "pygments_lexer": "ipython3",
   "version": "3.9.18"
  }
 },
 "nbformat": 4,
 "nbformat_minor": 5
}
